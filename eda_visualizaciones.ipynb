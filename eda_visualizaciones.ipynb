{
 "cells": [
  {
   "cell_type": "code",
   "execution_count": 1,
   "id": "ae6acf5a-0acd-464b-b523-fd0a98846ad7",
   "metadata": {},
   "outputs": [],
   "source": [
    "import pandas as pd\n",
    "import matplotlib.pyplot as plt\n",
    "import seaborn as sns\n",
    "import os"
   ]
  },
  {
   "cell_type": "code",
   "execution_count": 2,
   "id": "9225668e-1c5b-4043-8357-d53d2f06580a",
   "metadata": {},
   "outputs": [
    {
     "name": "stdout",
     "output_type": "stream",
     "text": [
      "File loaded successfully!\n",
      "       country  year      status  life_expectancy  adult_mortality  \\\n",
      "0  Afghanistan  2015  Developing             65.0            263.0   \n",
      "1  Afghanistan  2014  Developing             59.9            271.0   \n",
      "2  Afghanistan  2013  Developing             59.9            268.0   \n",
      "3  Afghanistan  2012  Developing             59.5            272.0   \n",
      "4  Afghanistan  2011  Developing             59.2            275.0   \n",
      "\n",
      "   infant_deaths  alcohol  percentage_expenditure  hepatitis_b  measles  ...  \\\n",
      "0             62     0.01               71.279624         65.0     1154  ...   \n",
      "1             64     0.01               73.523582         62.0      492  ...   \n",
      "2             66     0.01               73.219243         64.0      430  ...   \n",
      "3             69     0.01               78.184215         67.0     2787  ...   \n",
      "4             71     0.01                7.097109         68.0     3013  ...   \n",
      "\n",
      "   polio  total_expenditure  diphtheria  hiv/aids         gdp  population  \\\n",
      "0    6.0               8.16        65.0       0.1  584.259210  33736494.0   \n",
      "1   58.0               8.18        62.0       0.1  612.696514    327582.0   \n",
      "2   62.0               8.13        64.0       0.1  631.744976  31731688.0   \n",
      "3   67.0               8.52        67.0       0.1  669.959000   3696958.0   \n",
      "4   68.0               7.87        68.0       0.1   63.537231   2978599.0   \n",
      "\n",
      "   thinness__1_19_years  thinness_5_9_years  income_composition_of_resources  \\\n",
      "0                  17.2                17.3                            0.479   \n",
      "1                  17.5                17.5                            0.476   \n",
      "2                  17.7                17.7                            0.470   \n",
      "3                  17.9                18.0                            0.463   \n",
      "4                  18.2                18.2                            0.454   \n",
      "\n",
      "   schooling  \n",
      "0       10.1  \n",
      "1       10.0  \n",
      "2        9.9  \n",
      "3        9.8  \n",
      "4        9.5  \n",
      "\n",
      "[5 rows x 22 columns]\n"
     ]
    }
   ],
   "source": [
    "# --- 1. Load the cleaned dataset ---\n",
    "file_path = '/Users/maribelgutierrezramirez/Desktop/proyecto5/equipo5_proyecto5/data/clean_data.csv'\n",
    "\n",
    "if os.path.exists(file_path):\n",
    "    df = pd.read_csv(file_path)\n",
    "    print(\"File loaded successfully!\")\n",
    "    print(df.head())\n",
    "else:\n",
    "    print(f\"Error: The file was not found at this path: {file_path}\")"
   ]
  },
  {
   "cell_type": "code",
   "execution_count": null,
   "id": "a1e0aaa4-c9d3-4bb6-ae55-fd081037f92f",
   "metadata": {},
   "outputs": [],
   "source": []
  }
 ],
 "metadata": {
  "kernelspec": {
   "display_name": "Python 3 (ipykernel)",
   "language": "python",
   "name": "python3"
  },
  "language_info": {
   "codemirror_mode": {
    "name": "ipython",
    "version": 3
   },
   "file_extension": ".py",
   "mimetype": "text/x-python",
   "name": "python",
   "nbconvert_exporter": "python",
   "pygments_lexer": "ipython3",
   "version": "3.13.5"
  }
 },
 "nbformat": 4,
 "nbformat_minor": 5
}
